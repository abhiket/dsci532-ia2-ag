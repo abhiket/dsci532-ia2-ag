{
 "cells": [
  {
   "cell_type": "code",
   "execution_count": 1,
   "id": "599fbbeb-e760-4f86-a6f8-ae18494ccb40",
   "metadata": {},
   "outputs": [
    {
     "name": "stderr",
     "output_type": "stream",
     "text": [
      "\n",
      "Attaching package: 'plotly'\n",
      "\n",
      "\n",
      "The following object is masked from 'package:ggplot2':\n",
      "\n",
      "    last_plot\n",
      "\n",
      "\n",
      "The following object is masked from 'package:stats':\n",
      "\n",
      "    filter\n",
      "\n",
      "\n",
      "The following object is masked from 'package:graphics':\n",
      "\n",
      "    layout\n",
      "\n",
      "\n",
      "-- \u001b[1mAttaching packages\u001b[22m ------------------------------------------------------------------------------------------------------------------------------------------------------------------------ tidyverse 1.3.1 --\n",
      "\n",
      "\u001b[32mv\u001b[39m \u001b[34mtibble \u001b[39m 3.1.6     \u001b[32mv\u001b[39m \u001b[34mdplyr  \u001b[39m 1.0.7\n",
      "\u001b[32mv\u001b[39m \u001b[34mtidyr  \u001b[39m 1.1.4     \u001b[32mv\u001b[39m \u001b[34mstringr\u001b[39m 1.4.0\n",
      "\u001b[32mv\u001b[39m \u001b[34mreadr  \u001b[39m 2.1.2     \u001b[32mv\u001b[39m \u001b[34mforcats\u001b[39m 0.5.1\n",
      "\u001b[32mv\u001b[39m \u001b[34mpurrr  \u001b[39m 0.3.4     \n",
      "\n",
      "-- \u001b[1mConflicts\u001b[22m --------------------------------------------------------------------------------------------------------------------------------------------------------------------------- tidyverse_conflicts() --\n",
      "\u001b[31mx\u001b[39m \u001b[34mdplyr\u001b[39m::\u001b[32mfilter()\u001b[39m masks \u001b[34mplotly\u001b[39m::filter(), \u001b[34mstats\u001b[39m::filter()\n",
      "\u001b[31mx\u001b[39m \u001b[34mdplyr\u001b[39m::\u001b[32mlag()\u001b[39m    masks \u001b[34mstats\u001b[39m::lag()\n",
      "\n"
     ]
    }
   ],
   "source": [
    "library(ggplot2)\n",
    "library(plotly)\n",
    "library(tidyverse)\n",
    "library(purrr)"
   ]
  },
  {
   "cell_type": "code",
   "execution_count": 2,
   "id": "c0549e58-0792-443a-a24e-86c60a56cfb4",
   "metadata": {},
   "outputs": [
    {
     "data": {
      "text/plain": [
       "                                                                            \n",
       "1 function (..., list = character(), package = NULL, lib.loc = NULL,        \n",
       "2     verbose = getOption(\"verbose\"), envir = .GlobalEnv, overwrite = TRUE) \n",
       "3 {                                                                         \n",
       "4     fileExt <- function(x) {                                              \n",
       "5         db <- grepl(\"\\\\\\\\.[^.]+\\\\\\\\.(gz|bz2|xz)$\", x)                     \n",
       "6         ans <- sub(\".*\\\\\\\\.\", \"\", x)                                      "
      ]
     },
     "metadata": {},
     "output_type": "display_data"
    }
   ],
   "source": [
    "head(data)"
   ]
  },
  {
   "cell_type": "code",
   "execution_count": 3,
   "id": "36763783-c759-45fb-b8ec-5834f98354f3",
   "metadata": {},
   "outputs": [],
   "source": [
    "data <- read.csv('bei_vita_qwl_assessment.csv')"
   ]
  },
  {
   "cell_type": "code",
   "execution_count": 4,
   "id": "25d9bc31-5fd0-4112-9612-811b5408096f",
   "metadata": {},
   "outputs": [],
   "source": [
    "data <- data |> select('Username','Total.score','Country.of.Residence')"
   ]
  },
  {
   "cell_type": "code",
   "execution_count": 21,
   "id": "26593802-ee06-4136-b4df-33e0f5a50777",
   "metadata": {},
   "outputs": [
    {
     "name": "stdout",
     "output_type": "stream",
     "text": [
      "[1] \"HK & Macau\"\n",
      "[1] \"Japan\"\n",
      "[1] \"Singapore\"\n",
      "[1] \"Indonesia & E. Timor\"\n",
      "[1] \"Thailand\"\n",
      "[1] \"Myanmar\"\n",
      "[1] \"Pakistan\"\n",
      "[1] \"Bangladesh\"\n",
      "[1] \"Sri Lanka\"\n",
      "[1] \"New Zealand\"\n",
      "[1] \"Papua New Guinea\"\n",
      "[1] \"Philippines\"\n",
      "[1] \"India\"\n",
      "[1] \"Vietnam\"\n",
      "[1] \"Taiwan\"\n",
      "[1] \"South Korea\"\n",
      "[1] \"Fiji\"\n",
      "[1] \"Laos\"\n",
      "[1] \"Nepal\"\n",
      "[1] \"Malaysia & Brunei\"\n",
      "[1] \"Cambodia\"\n",
      "[1] \"Australia\"\n"
     ]
    }
   ],
   "source": [
    "for (y in unique(data$Country.of.Residence)) {\n",
    "    print (y)\n",
    "    }"
   ]
  },
  {
   "cell_type": "code",
   "execution_count": null,
   "id": "c125bdb3-115c-4714-a673-16ff8072b919",
   "metadata": {},
   "outputs": [],
   "source": []
  },
  {
   "cell_type": "code",
   "execution_count": 15,
   "id": "cfcd9c83-4aef-4c08-a30a-c55a6f74af8e",
   "metadata": {},
   "outputs": [],
   "source": [
    "data_sub <- filter(data, Country.of.Residence %in% ('Japan',))"
   ]
  },
  {
   "cell_type": "code",
   "execution_count": 17,
   "id": "6d82e557-f8a5-4fcf-b500-9515c2ae0dfe",
   "metadata": {},
   "outputs": [
    {
     "data": {
      "text/html": [
       "<table class=\"dataframe\">\n",
       "<caption>A data.frame: 6 × 3</caption>\n",
       "<thead>\n",
       "\t<tr><th></th><th scope=col>Username</th><th scope=col>Total.score</th><th scope=col>Country.of.Residence</th></tr>\n",
       "\t<tr><th></th><th scope=col>&lt;int&gt;</th><th scope=col>&lt;dbl&gt;</th><th scope=col>&lt;chr&gt;</th></tr>\n",
       "</thead>\n",
       "<tbody>\n",
       "\t<tr><th scope=row>1</th><td> 2</td><td>29.0</td><td>Japan</td></tr>\n",
       "\t<tr><th scope=row>2</th><td> 5</td><td>29.0</td><td>Japan</td></tr>\n",
       "\t<tr><th scope=row>3</th><td> 8</td><td>23.0</td><td>Japan</td></tr>\n",
       "\t<tr><th scope=row>4</th><td>10</td><td>15.0</td><td>Japan</td></tr>\n",
       "\t<tr><th scope=row>5</th><td>14</td><td>19.0</td><td>Japan</td></tr>\n",
       "\t<tr><th scope=row>6</th><td>27</td><td>28.5</td><td>Japan</td></tr>\n",
       "</tbody>\n",
       "</table>\n"
      ],
      "text/latex": [
       "A data.frame: 6 × 3\n",
       "\\begin{tabular}{r|lll}\n",
       "  & Username & Total.score & Country.of.Residence\\\\\n",
       "  & <int> & <dbl> & <chr>\\\\\n",
       "\\hline\n",
       "\t1 &  2 & 29.0 & Japan\\\\\n",
       "\t2 &  5 & 29.0 & Japan\\\\\n",
       "\t3 &  8 & 23.0 & Japan\\\\\n",
       "\t4 & 10 & 15.0 & Japan\\\\\n",
       "\t5 & 14 & 19.0 & Japan\\\\\n",
       "\t6 & 27 & 28.5 & Japan\\\\\n",
       "\\end{tabular}\n"
      ],
      "text/markdown": [
       "\n",
       "A data.frame: 6 × 3\n",
       "\n",
       "| <!--/--> | Username &lt;int&gt; | Total.score &lt;dbl&gt; | Country.of.Residence &lt;chr&gt; |\n",
       "|---|---|---|---|\n",
       "| 1 |  2 | 29.0 | Japan |\n",
       "| 2 |  5 | 29.0 | Japan |\n",
       "| 3 |  8 | 23.0 | Japan |\n",
       "| 4 | 10 | 15.0 | Japan |\n",
       "| 5 | 14 | 19.0 | Japan |\n",
       "| 6 | 27 | 28.5 | Japan |\n",
       "\n"
      ],
      "text/plain": [
       "  Username Total.score Country.of.Residence\n",
       "1  2       29.0        Japan               \n",
       "2  5       29.0        Japan               \n",
       "3  8       23.0        Japan               \n",
       "4 10       15.0        Japan               \n",
       "5 14       19.0        Japan               \n",
       "6 27       28.5        Japan               "
      ]
     },
     "metadata": {},
     "output_type": "display_data"
    }
   ],
   "source": [
    "head(data_sub)"
   ]
  },
  {
   "cell_type": "code",
   "execution_count": 13,
   "id": "33cb6e88-274f-48fa-85b9-519dfc6015e8",
   "metadata": {},
   "outputs": [
    {
     "data": {
      "image/png": "[encoded data removed]",
      "text/plain": [
       "plot without title"
      ]
     },
     "metadata": {
      "image/png": {
       "height": 420,
       "width": 420
      }
     },
     "output_type": "display_data"
    }
   ],
   "source": [
    "p <- ggplot(data, aes(x=Total.score)) +\n",
    "            geom_area(stat = \"count\", fill = \"lightblue\", color=\"blue\", size=1)\n",
    "            \n",
    "p"
   ]
  },
  {
   "cell_type": "code",
   "execution_count": null,
   "id": "eb73cf35-1cac-4c63-8bd4-682f70cf7b90",
   "metadata": {},
   "outputs": [],
   "source": [
    "p <- ggplot(data, aes(x= 'Total score'))"
   ]
  },
  {
   "cell_type": "code",
   "execution_count": null,
   "id": "31279266-6e1f-497e-b061-4166612f9575",
   "metadata": {},
   "outputs": [],
   "source": [
    "gun_deaths_plot <- ggplot(data) + \n",
    "    aes(x = Total.score,\n",
    "        color = \"black\"\n",
    "    ) +\n",
    "    geom_ribbon(aes(y = count()), fill=\"#993333\", color=\"dark red\") +\n",
    "    geom_line(color = \"black\", lwd = 1)"
   ]
  },
  {
   "cell_type": "code",
   "execution_count": null,
   "id": "59794f95-0e68-445f-a214-660f17305812",
   "metadata": {},
   "outputs": [],
   "source": [
    "gun_deaths_plot"
   ]
  },
  {
   "cell_type": "code",
   "execution_count": null,
   "id": "e33dcb19-2477-4e77-abe9-bf2b9c377247",
   "metadata": {},
   "outputs": [],
   "source": []
  }
 ],
 "metadata": {
  "kernelspec": {
   "display_name": "R",
   "language": "R",
   "name": "ir"
  },
  "language_info": {
   "codemirror_mode": "r",
   "file_extension": ".r",
   "mimetype": "text/x-r-source",
   "name": "R",
   "pygments_lexer": "r",
   "version": "4.1.2"
  }
 },
 "nbformat": 4,
 "nbformat_minor": 5
}
